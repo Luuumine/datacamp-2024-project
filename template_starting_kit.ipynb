{
 "cells": [
  {
   "cell_type": "markdown",
   "metadata": {},
   "source": [
    "<div style=\"text-align: center;\">\n",
    "    <a href=\"https://www.dataia.eu/\">\n",
    "        <img border=\"0\" src=\"https://github.com/ramp-kits/template-kit/raw/main/img/DATAIA-h.png\" width=\"90%\"></a>\n",
    "</div>\n",
    "\n",
    "# Template Kit for RAMP challenge\n",
    "\n",
    "<i> Thomas Moreau (Inria) </i>"
   ]
  },
  {
   "cell_type": "markdown",
   "metadata": {},
   "source": [
    "## Introduction\n",
    "This data challenge focuses on predicting the reason of absence of employees at a brazilian courier company based on various personal, work-related, and health-related factors. The motivation of this challenge is to permit companies and public administrations to help forecasting the reason of absence at work declared by employees and the reason predicted by a machine learning model, this could help detecting first signs of burn out or other kind of issues (to help employers health).\n",
    "\n",
    "The database was created with records of absenteeism at work from July 2007 to July 2010 at a courier company in Brazil.\n",
    "It contains 21 input features and 1 categorical target variable that is `Reason_for_absence`. Each line represents an absence instance with multiple attributes related to personal demographics, work conditions, and health status.\n",
    "\n",
    "Creators of the dataset : Martiniano, A. & Ferreira, R. (2012). Absenteeism at work [Dataset]. You can find the dataset on UCI Machine Learning Repository. https://doi.org/10.24432/C5X882. (The dataset is provided in **CSV format**.)"
   ]
  },
  {
   "cell_type": "markdown",
   "metadata": {},
   "source": [
    "# Exploratory data analysis\n",
    "\n",
    "## Features\n",
    "1. **Individual ID** (`ID`): Unique identifier for each employee.\n",
    "2. **Reason for absence** (`Reason_for_absence`): Categorized according to the International Code of Diseases (ICD) and additional reasons such as consultations, physiotherapy, and unjustified absence. (TARGET VARIABLE)\n",
    "3. **Month of absence** (`Month_of_absence`): Month in which the absence occurred.\n",
    "4. **Day of the week** (`Day_of_the_week`): Encoded as Monday (2) to Friday (6).\n",
    "5. **Seasons** (`Seasons`): Encoded as Spring (1), Summer (2), Autumn (3), Winter (4).\n",
    "6. **Transportation expense** (`Transportation_expense`): Employee's transportation cost.\n",
    "7. **Distance from Residence to Work** (`Distance_from_Residence_to_Work`): Distance in kilometers.\n",
    "8. **Service time** (`Service_time`): Number of years the employee has been with the company.\n",
    "9. **Age** (`Age`): Employee’s age in years.\n",
    "10. **Work load Average/day** (`Work_load_Average/day_`): Average workload per day.\n",
    "11. **Hit target** (`Hit_target`): Performance target hit percentage.\n",
    "12. **Disciplinary failure** (`Disciplinary_failure`): 1 if the employee has disciplinary failures, otherwise 0.\n",
    "13. **Education** (`Education`): Education level - High school (1), Graduate (2), Postgraduate (3), Master & Doctor (4).\n",
    "14. **Son** (`Son`): Number of children.\n",
    "15. **Social drinker** (`Drinker`): 1 if the employee drinks socially, otherwise 0.\n",
    "16. **Social smoker** (`Smoker`): 1 if the employee smokes socially, otherwise 0.\n",
    "17. **Pet** (`Pet`): Number of pets owned.\n",
    "18. **Weight** (`Weight`): Employee’s weight.\n",
    "19. **Height** (`Height`): Employee’s height.\n",
    "20. **Body mass index** (`Body_mass_index`): Calculated BMI.\n",
    "21. **Absenteeism time in hours** (`Absenteeism_time_in_hours`): total absence hours.\n",
    "\n",
    "\n",
    "\n",
    "## Target definitions\n",
    "\n",
    "\n",
    "\n",
    "0. **Unknown**\n",
    "\n",
    "### Group 1: Infectious, Neoplastic, and Immune Diseases\n",
    "1. **Certain infectious and parasitic diseases**\n",
    "2. **Neoplasms**\n",
    "3. **Diseases of the blood and blood-forming organs and certain disorders involving the immune mechanism**\n",
    "\n",
    "### Group 2: Chronic and Metabolic Conditions\n",
    "4. **Endocrine, nutritional and metabolic diseases**\n",
    "9. **Mental and behavioural disorders**\n",
    "10. **Diseases of the nervous system**\n",
    "11. **Diseases of the eye and adnexa**\n",
    "\n",
    "### Group 3: Neurological, Psychiatric, and Sensory Disorders\n",
    "5. **Diseases of the ear and mastoid process**\n",
    "6. **Diseases of the circulatory system**\n",
    "7. **Diseases of the respiratory system**\n",
    "8. **Diseases of the digestive system**\n",
    "\n",
    "### Group 4: Musculoskeletal, Dermatological, and Genitourinary Conditions\n",
    "12. **Diseases of the skin and subcutaneous tissue**\n",
    "13. **Diseases of the musculoskeletal system and connective tissue**\n",
    "14. **Diseases of the genitourinary system**\n",
    "15. **Pregnancy, childbirth and the puerperium**\n",
    "\n",
    "### Group 5: Injuries, External Causes, Pregnancy, and Other Conditions\n",
    "16. **Certain conditions originating in the perinatal period**\n",
    "17. **Congenital malformations, deformations and chromosomal abnormalities**\n",
    "18. **Symptoms, signs and abnormal clinical and laboratory findings, not elsewhere classified**\n",
    "19. **Injury, poisoning and certain other consequences of external causes**\n",
    "20. **External causes of morbidity and mortality**\n",
    "21. **Factors influencing health status and contact with health services**\n",
    "\n",
    "### Group 6: Non-Disease Absences (Administrative & Follow-up)\n",
    "22. **Patient follow-up**\n",
    "23. **Medical consultation**\n",
    "24. **Blood donation**\n",
    "25. **Laboratory examination**\n",
    "26. **Unjustified absence**\n",
    "27. **Physiotherapy**\n",
    "28. **Dental consultation**\n",
    "  "
   ]
  },
  {
   "cell_type": "code",
   "execution_count": 1,
   "metadata": {},
   "outputs": [],
   "source": [
    "%matplotlib inline\n",
    "import numpy as np\n",
    "import pandas as pd\n",
    "import matplotlib.pyplot as plt\n",
    "pd.set_option('display.max_columns', None)\n",
    "\n",
    "# Load the data\n",
    "\n",
    "import problem\n",
    "X, y = problem.get_train_data()"
   ]
  },
  {
   "cell_type": "markdown",
   "metadata": {},
   "source": [
    "## Evaluation Metric\n",
    "Given the difficulty to predict the exact reason of absence among a lot of possibilities, the evaluation metric will be the top 4 F1 score."
   ]
  },
  {
   "cell_type": "markdown",
   "metadata": {},
   "source": [
    "# Submission format\n",
    "\n",
    "Here, you should describe the submission format. This is the format the participants should follow to submit their predictions on the RAMP plateform.\n",
    "\n",
    "This section also show how to use the `ramp-workflow` library to test the submission locally."
   ]
  },
  {
   "cell_type": "markdown",
   "metadata": {},
   "source": [
    "## The pipeline workflow\n",
    "\n",
    "The input data are stored in a dataframe. To go from a dataframe to a numpy array we will use a scikit-learn column transformer. The first example we will write will just consist in selecting a subset of columns we want to work with."
   ]
  },
  {
   "cell_type": "code",
   "execution_count": 2,
   "metadata": {},
   "outputs": [],
   "source": [
    "# %load submissions/starting_kit/estimator.py\n",
    "\n",
    "from sklearn.pipeline import make_pipeline\n",
    "from sklearn.ensemble import RandomForestClassifier\n",
    "\n",
    "\n",
    "def get_estimator():\n",
    "    pipe = make_pipeline(RandomForestClassifier())\n",
    "\n",
    "    return pipe"
   ]
  },
  {
   "cell_type": "markdown",
   "metadata": {},
   "source": [
    "## Testing using a scikit-learn pipeline"
   ]
  },
  {
   "cell_type": "code",
   "execution_count": 3,
   "metadata": {},
   "outputs": [
    {
     "name": "stdout",
     "output_type": "stream",
     "text": [
      "[0.65151515 0.66497462 0.6751269 ]\n"
     ]
    }
   ],
   "source": [
    "from sklearn.model_selection import cross_val_score\n",
    "\n",
    "scores = cross_val_score(get_estimator(), X, y, cv=3, scoring=\"accuracy\")\n",
    "print(scores)"
   ]
  },
  {
   "cell_type": "markdown",
   "metadata": {},
   "source": [
    "## Submission\n",
    "\n",
    "To submit your code, you can refer to the [online documentation](https://paris-saclay-cds.github.io/ramp-docs/ramp-workflow/stable/using_kits.html)."
   ]
  }
 ],
 "metadata": {
  "kernelspec": {
   "display_name": "env",
   "language": "python",
   "name": "python3"
  },
  "language_info": {
   "codemirror_mode": {
    "name": "ipython",
    "version": 3
   },
   "file_extension": ".py",
   "mimetype": "text/x-python",
   "name": "python",
   "nbconvert_exporter": "python",
   "pygments_lexer": "ipython3",
   "version": "3.12.7"
  }
 },
 "nbformat": 4,
 "nbformat_minor": 1
}
